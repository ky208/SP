{
 "cells": [
  {
   "cell_type": "code",
   "execution_count": null,
   "id": "0c9eb24c",
   "metadata": {},
   "outputs": [],
   "source": [
    "import pandas as pd\n",
    "import numpy as np"
   ]
  },
  {
   "cell_type": "code",
   "execution_count": null,
   "id": "9a160449",
   "metadata": {},
   "outputs": [],
   "source": [
    "df = pd.read_excel('dataset/3. GPA Salary 2022 NUS.xlsx')"
   ]
  },
  {
   "cell_type": "markdown",
   "id": "e4fac309",
   "metadata": {},
   "source": [
    "## Model 1 Question 1c"
   ]
  },
  {
   "cell_type": "code",
   "execution_count": null,
   "id": "6a93a8ef",
   "metadata": {},
   "outputs": [],
   "source": [
    "#Model 1\n",
    "monthlySalary = df['Basic Monthly Salary (Median)']\n",
    "gpa = df['GPA (10th percentile)']\n",
    "b = 2\n",
    "rate = 0.001\n",
    "epsilon = 0.001\n",
    "diff = 1\n",
    "max_iter = 500\n",
    "iter = 1\n",
    "E = lambda b: (1/17)*(np.sum([(monthlySalary - b * gpa)**2]))\n",
    "deriv = lambda b: (-2/17)* (np.sum([gpa * (monthlySalary - b * gpa)]))\n",
    "\n",
    "while diff > epsilon and iter < max_iter:\n",
    "    b_new = b - rate * deriv(b)\n",
    "    print(\"Iteration \", iter, \": b-value is: \", b_new,\"E(b) is: \", E(b_new) )\n",
    "    diff = abs(b_new - b)\n",
    "    iter = iter + 1\n",
    "    b = b_new\n",
    "print(\"Number of iterations is: \", iter)  \n",
    "print(\"The local minimum occurs when b is: \", b)\n",
    "print(\"Minimum error is: \", E(b))"
   ]
  },
  {
   "cell_type": "markdown",
   "id": "70fa92a5",
   "metadata": {},
   "source": [
    "## Model 2 Question 2c"
   ]
  },
  {
   "cell_type": "code",
   "execution_count": null,
   "id": "d58bd659",
   "metadata": {},
   "outputs": [],
   "source": [
    "#Model 2\n",
    "monthlySalary = df['Basic Monthly Salary (Median)']\n",
    "gpa = df['GPA (10th percentile)']\n",
    "\n",
    "next_x = 4\n",
    "next_y = 5\n",
    "alpha = 0.0679\n",
    "epsilon = 0.001\n",
    "max_iters = 30000\n",
    "iteration = 1\n",
    "\n",
    "partialf_x = lambda x,y: (-2/17)*(np.sum((monthlySalary - (x + y * gpa))))\n",
    "partialf_y = lambda x,y:  (-2/17)*(np.sum((gpa)*(monthlySalary - (x + y * gpa))))\n",
    "func = lambda x,y: (1/17)*(np.sum((monthlySalary - (x + y * gpa))**2))\n",
    "\n",
    "next_func = func(next_x,next_y)\n",
    "\n",
    "for n in range(max_iters):\n",
    "    current_x = next_x\n",
    "    current_y = next_y\n",
    "    current_func = next_func\n",
    "    next_x = current_x-alpha*partialf_x(current_x,current_y)\n",
    "    next_y = current_y-alpha*partialf_y(current_x,current_y)\n",
    "    next_func = func(next_x,next_y)\n",
    "    iteration = iteration + 1\n",
    "    change_func = abs(next_func-current_func)\n",
    "    print(\"Iteration\",n+1,\": x = \",next_x,\", y = \",next_y,\", f(x,y) = \",next_func)\n",
    "    if change_func<epsilon:\n",
    "        break\n",
    "        \n",
    "print(\"Number of iterations is: \", iteration)  \n",
    "print(\"The local minimum occurs when b is: \", next_y)\n",
    "print(\"Minimum error is: \", next_func)"
   ]
  },
  {
   "cell_type": "markdown",
   "id": "31e862cf",
   "metadata": {},
   "source": [
    "## Model 3"
   ]
  },
  {
   "cell_type": "code",
   "execution_count": null,
   "id": "357d72be",
   "metadata": {},
   "outputs": [],
   "source": [
    "#Model 3\n",
    "newDF = df.copy()\n",
    "\n",
    "#Extract the first 12 rows\n",
    "newDF = df.head(12)\n",
    "\n",
    "#predictor w\n",
    "newDF['Months Of Job Experience'] = [2,24,0,2,12,15,20,24,15,20,20,12]\n",
    "newDF\n",
    "\n",
    "newDFSalary = newDF['Basic Monthly Salary (Median)']\n",
    "newDFGpa = newDF['GPA (10th percentile)']\n",
    "newDFExperience = newDF['Months Of Job Experience']\n",
    "\n",
    "next_x = 4\n",
    "next_y = 5\n",
    "next_c = 6\n",
    "alpha = 0.0037\n",
    "epsilon = 0.001\n",
    "max_iters = 400000\n",
    "iteration = 1\n",
    "\n",
    "partialf_x = lambda x,y,c: (-2/12)*(np.sum((newDFSalary - (x + y * newDFGpa + c * newDFExperience))))\n",
    "partialf_y = lambda x,y,c:  (-2/12)*(np.sum((newDFGpa)*(newDFSalary - (x + y * newDFGpa + c * newDFExperience))))\n",
    "partialf_c = lambda x,y,c:  (-2/12)*(np.sum((newDFExperience)*(newDFSalary - (x + y * newDFGpa + c * newDFExperience))))\n",
    "func = lambda x,y,c: (1/12)*(np.sum((newDFSalary - (x + y * newDFGpa + c * newDFExperience))**2))\n",
    "\n",
    "next_func = func(next_x,next_y,next_c)\n",
    "\n",
    "for n in range(max_iters):\n",
    "    current_x = next_x\n",
    "    current_y = next_y\n",
    "    current_c = next_c\n",
    "    current_func = next_func\n",
    "    next_x = current_x-alpha*partialf_x(current_x,current_y,current_c)\n",
    "    next_y = current_y-alpha*partialf_y(current_x,current_y,current_c)\n",
    "    next_c = current_c-alpha*partialf_c(current_x,current_y,current_c)\n",
    "    next_func = func(next_x,next_y,next_c)\n",
    "    iteration = iteration + 1\n",
    "    change_func = abs(next_func-current_func)\n",
    "    print(\"Iteration\",n+1,\": a = \",next_x,\", b = \",next_y,\", c = \",next_c,\", f(a,b,c) = \",next_func)\n",
    "    if change_func<epsilon:\n",
    "        break\n",
    "        \n",
    "print(\"Number of iterations is: \", iteration)  \n",
    "print(\"The local minimum occurs when a is: \", next_x)\n",
    "print(\"The local minimum occurs when b is: \", next_y)\n",
    "print(\"The local minimum occurs when c is: \", next_c)\n",
    "print(\"Minimum error is: \", next_func)"
   ]
  },
  {
   "cell_type": "code",
   "execution_count": null,
   "id": "86ab3f87",
   "metadata": {},
   "outputs": [],
   "source": []
  },
  {
   "cell_type": "code",
   "execution_count": null,
   "id": "59b70c75",
   "metadata": {},
   "outputs": [],
   "source": []
  }
 ],
 "metadata": {
  "kernelspec": {
   "display_name": "Python 3 (ipykernel)",
   "language": "python",
   "name": "python3"
  },
  "language_info": {
   "codemirror_mode": {
    "name": "ipython",
    "version": 3
   },
   "file_extension": ".py",
   "mimetype": "text/x-python",
   "name": "python",
   "nbconvert_exporter": "python",
   "pygments_lexer": "ipython3",
   "version": "3.10.9"
  }
 },
 "nbformat": 4,
 "nbformat_minor": 5
}
