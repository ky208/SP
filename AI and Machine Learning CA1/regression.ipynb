{
 "cells": [
  {
   "cell_type": "markdown",
   "id": "e1f60ae1",
   "metadata": {},
   "source": [
    "# Adm No: 2222291\n",
    "# Name: Toh Kien Yu\n",
    "\n",
    "## Regression Model"
   ]
  },
  {
   "cell_type": "code",
   "execution_count": 30,
   "id": "1f38e16e",
   "metadata": {},
   "outputs": [],
   "source": [
    "import numpy as np\n",
    "import pandas as pd\n",
    "import sklearn\n",
    "import matplotlib.pyplot as plt\n",
    "import seaborn as sns"
   ]
  },
  {
   "cell_type": "markdown",
   "id": "c2fe6e05",
   "metadata": {},
   "source": [
    "### Data Loading|"
   ]
  },
  {
   "cell_type": "code",
   "execution_count": 31,
   "id": "1240b640",
   "metadata": {},
   "outputs": [
    {
     "data": {
      "text/html": [
       "<div>\n",
       "<style scoped>\n",
       "    .dataframe tbody tr th:only-of-type {\n",
       "        vertical-align: middle;\n",
       "    }\n",
       "\n",
       "    .dataframe tbody tr th {\n",
       "        vertical-align: top;\n",
       "    }\n",
       "\n",
       "    .dataframe thead th {\n",
       "        text-align: right;\n",
       "    }\n",
       "</style>\n",
       "<table border=\"1\" class=\"dataframe\">\n",
       "  <thead>\n",
       "    <tr style=\"text-align: right;\">\n",
       "      <th></th>\n",
       "      <th>House ID</th>\n",
       "      <th>City</th>\n",
       "      <th>House Area (sqm)</th>\n",
       "      <th>No. of Bedrooms</th>\n",
       "      <th>No. of Toilets</th>\n",
       "      <th>Stories</th>\n",
       "      <th>Renovation Status</th>\n",
       "      <th>Price ($)</th>\n",
       "    </tr>\n",
       "  </thead>\n",
       "  <tbody>\n",
       "    <tr>\n",
       "      <th>0</th>\n",
       "      <td>0</td>\n",
       "      <td>Chicago</td>\n",
       "      <td>742.0</td>\n",
       "      <td>4</td>\n",
       "      <td>2</td>\n",
       "      <td>3</td>\n",
       "      <td>furnished</td>\n",
       "      <td>1330000</td>\n",
       "    </tr>\n",
       "    <tr>\n",
       "      <th>1</th>\n",
       "      <td>1</td>\n",
       "      <td>Denver</td>\n",
       "      <td>896.0</td>\n",
       "      <td>4</td>\n",
       "      <td>4</td>\n",
       "      <td>4</td>\n",
       "      <td>furnished</td>\n",
       "      <td>1225000</td>\n",
       "    </tr>\n",
       "    <tr>\n",
       "      <th>2</th>\n",
       "      <td>2</td>\n",
       "      <td>Chicago</td>\n",
       "      <td>996.0</td>\n",
       "      <td>3</td>\n",
       "      <td>2</td>\n",
       "      <td>2</td>\n",
       "      <td>semi-furnished</td>\n",
       "      <td>1225000</td>\n",
       "    </tr>\n",
       "    <tr>\n",
       "      <th>3</th>\n",
       "      <td>3</td>\n",
       "      <td>Seattle</td>\n",
       "      <td>750.0</td>\n",
       "      <td>4</td>\n",
       "      <td>2</td>\n",
       "      <td>2</td>\n",
       "      <td>furnished</td>\n",
       "      <td>1221500</td>\n",
       "    </tr>\n",
       "    <tr>\n",
       "      <th>4</th>\n",
       "      <td>4</td>\n",
       "      <td>New York</td>\n",
       "      <td>742.0</td>\n",
       "      <td>4</td>\n",
       "      <td>1</td>\n",
       "      <td>2</td>\n",
       "      <td>furnished</td>\n",
       "      <td>1141000</td>\n",
       "    </tr>\n",
       "  </tbody>\n",
       "</table>\n",
       "</div>"
      ],
      "text/plain": [
       "   House ID      City  House Area (sqm)  No. of Bedrooms  No. of Toilets  \\\n",
       "0         0   Chicago             742.0                4               2   \n",
       "1         1    Denver             896.0                4               4   \n",
       "2         2   Chicago             996.0                3               2   \n",
       "3         3   Seattle             750.0                4               2   \n",
       "4         4  New York             742.0                4               1   \n",
       "\n",
       "   Stories Renovation Status  Price ($)  \n",
       "0        3         furnished    1330000  \n",
       "1        4         furnished    1225000  \n",
       "2        2    semi-furnished    1225000  \n",
       "3        2         furnished    1221500  \n",
       "4        2         furnished    1141000  "
      ]
     },
     "execution_count": 31,
     "metadata": {},
     "output_type": "execute_result"
    }
   ],
   "source": [
    "df = pd.read_csv('datasets/housing_dataset.csv')\n",
    "df.head(5)"
   ]
  },
  {
   "cell_type": "code",
   "execution_count": 32,
   "id": "0eecd556",
   "metadata": {},
   "outputs": [
    {
     "name": "stdout",
     "output_type": "stream",
     "text": [
      "Database Shape\n",
      "(545, 8)\n"
     ]
    }
   ],
   "source": [
    "print(\"Database Shape\")\n",
    "print(df.shape)"
   ]
  },
  {
   "cell_type": "markdown",
   "id": "1654b148",
   "metadata": {},
   "source": [
    "### Data Exploration"
   ]
  },
  {
   "cell_type": "code",
   "execution_count": 33,
   "id": "7e52d860",
   "metadata": {},
   "outputs": [
    {
     "data": {
      "text/html": [
       "<div>\n",
       "<style scoped>\n",
       "    .dataframe tbody tr th:only-of-type {\n",
       "        vertical-align: middle;\n",
       "    }\n",
       "\n",
       "    .dataframe tbody tr th {\n",
       "        vertical-align: top;\n",
       "    }\n",
       "\n",
       "    .dataframe thead th {\n",
       "        text-align: right;\n",
       "    }\n",
       "</style>\n",
       "<table border=\"1\" class=\"dataframe\">\n",
       "  <thead>\n",
       "    <tr style=\"text-align: right;\">\n",
       "      <th></th>\n",
       "      <th>House ID</th>\n",
       "      <th>House Area (sqm)</th>\n",
       "      <th>No. of Bedrooms</th>\n",
       "      <th>No. of Toilets</th>\n",
       "      <th>Stories</th>\n",
       "      <th>Price ($)</th>\n",
       "    </tr>\n",
       "  </thead>\n",
       "  <tbody>\n",
       "    <tr>\n",
       "      <th>count</th>\n",
       "      <td>545.00000</td>\n",
       "      <td>545.000000</td>\n",
       "      <td>545.000000</td>\n",
       "      <td>545.000000</td>\n",
       "      <td>545.000000</td>\n",
       "      <td>5.450000e+02</td>\n",
       "    </tr>\n",
       "    <tr>\n",
       "      <th>mean</th>\n",
       "      <td>272.00000</td>\n",
       "      <td>515.054128</td>\n",
       "      <td>2.965138</td>\n",
       "      <td>1.286239</td>\n",
       "      <td>1.805505</td>\n",
       "      <td>4.766729e+05</td>\n",
       "    </tr>\n",
       "    <tr>\n",
       "      <th>std</th>\n",
       "      <td>157.47222</td>\n",
       "      <td>217.014102</td>\n",
       "      <td>0.738064</td>\n",
       "      <td>0.502470</td>\n",
       "      <td>0.867492</td>\n",
       "      <td>1.870440e+05</td>\n",
       "    </tr>\n",
       "    <tr>\n",
       "      <th>min</th>\n",
       "      <td>0.00000</td>\n",
       "      <td>165.000000</td>\n",
       "      <td>1.000000</td>\n",
       "      <td>1.000000</td>\n",
       "      <td>1.000000</td>\n",
       "      <td>1.750000e+05</td>\n",
       "    </tr>\n",
       "    <tr>\n",
       "      <th>25%</th>\n",
       "      <td>136.00000</td>\n",
       "      <td>360.000000</td>\n",
       "      <td>2.000000</td>\n",
       "      <td>1.000000</td>\n",
       "      <td>1.000000</td>\n",
       "      <td>3.430000e+05</td>\n",
       "    </tr>\n",
       "    <tr>\n",
       "      <th>50%</th>\n",
       "      <td>272.00000</td>\n",
       "      <td>460.000000</td>\n",
       "      <td>3.000000</td>\n",
       "      <td>1.000000</td>\n",
       "      <td>2.000000</td>\n",
       "      <td>4.340000e+05</td>\n",
       "    </tr>\n",
       "    <tr>\n",
       "      <th>75%</th>\n",
       "      <td>408.00000</td>\n",
       "      <td>636.000000</td>\n",
       "      <td>3.000000</td>\n",
       "      <td>2.000000</td>\n",
       "      <td>2.000000</td>\n",
       "      <td>5.740000e+05</td>\n",
       "    </tr>\n",
       "    <tr>\n",
       "      <th>max</th>\n",
       "      <td>544.00000</td>\n",
       "      <td>1620.000000</td>\n",
       "      <td>6.000000</td>\n",
       "      <td>4.000000</td>\n",
       "      <td>4.000000</td>\n",
       "      <td>1.330000e+06</td>\n",
       "    </tr>\n",
       "  </tbody>\n",
       "</table>\n",
       "</div>"
      ],
      "text/plain": [
       "        House ID  House Area (sqm)  No. of Bedrooms  No. of Toilets  \\\n",
       "count  545.00000        545.000000       545.000000      545.000000   \n",
       "mean   272.00000        515.054128         2.965138        1.286239   \n",
       "std    157.47222        217.014102         0.738064        0.502470   \n",
       "min      0.00000        165.000000         1.000000        1.000000   \n",
       "25%    136.00000        360.000000         2.000000        1.000000   \n",
       "50%    272.00000        460.000000         3.000000        1.000000   \n",
       "75%    408.00000        636.000000         3.000000        2.000000   \n",
       "max    544.00000       1620.000000         6.000000        4.000000   \n",
       "\n",
       "          Stories     Price ($)  \n",
       "count  545.000000  5.450000e+02  \n",
       "mean     1.805505  4.766729e+05  \n",
       "std      0.867492  1.870440e+05  \n",
       "min      1.000000  1.750000e+05  \n",
       "25%      1.000000  3.430000e+05  \n",
       "50%      2.000000  4.340000e+05  \n",
       "75%      2.000000  5.740000e+05  \n",
       "max      4.000000  1.330000e+06  "
      ]
     },
     "execution_count": 33,
     "metadata": {},
     "output_type": "execute_result"
    }
   ],
   "source": [
    "df.describe()"
   ]
  },
  {
   "cell_type": "code",
   "execution_count": 34,
   "id": "bf4074f8",
   "metadata": {},
   "outputs": [
    {
     "name": "stdout",
     "output_type": "stream",
     "text": [
      "<class 'pandas.core.frame.DataFrame'>\n",
      "RangeIndex: 545 entries, 0 to 544\n",
      "Data columns (total 8 columns):\n",
      " #   Column             Non-Null Count  Dtype  \n",
      "---  ------             --------------  -----  \n",
      " 0   House ID           545 non-null    int64  \n",
      " 1   City               545 non-null    object \n",
      " 2   House Area (sqm)   545 non-null    float64\n",
      " 3   No. of Bedrooms    545 non-null    int64  \n",
      " 4   No. of Toilets     545 non-null    int64  \n",
      " 5   Stories            545 non-null    int64  \n",
      " 6   Renovation Status  545 non-null    object \n",
      " 7   Price ($)          545 non-null    int64  \n",
      "dtypes: float64(1), int64(5), object(2)\n",
      "memory usage: 34.2+ KB\n"
     ]
    }
   ],
   "source": [
    "df.info()"
   ]
  },
  {
   "cell_type": "code",
   "execution_count": 35,
   "id": "89caa0a1",
   "metadata": {},
   "outputs": [
    {
     "data": {
      "text/plain": [
       "House ID             0\n",
       "City                 0\n",
       "House Area (sqm)     0\n",
       "No. of Bedrooms      0\n",
       "No. of Toilets       0\n",
       "Stories              0\n",
       "Renovation Status    0\n",
       "Price ($)            0\n",
       "dtype: int64"
      ]
     },
     "execution_count": 35,
     "metadata": {},
     "output_type": "execute_result"
    }
   ],
   "source": [
    "df.isnull().sum() # No Null Values"
   ]
  },
  {
   "cell_type": "code",
   "execution_count": 36,
   "id": "a5555082",
   "metadata": {},
   "outputs": [
    {
     "data": {
      "image/png": "[encoded data removed]",
      "text/plain": [
       "<Figure size 640x480 with 1 Axes>"
      ]
     },
     "metadata": {},
     "output_type": "display_data"
    }
   ],
   "source": [
    "sns.boxplot(data=df,x = 'City', y ='Price ($)')\n",
    "plt.show()"
   ]
  },
  {
   "cell_type": "markdown",
   "id": "bd17c2f8",
   "metadata": {},
   "source": [
    "### Median housing prices are around the same price with Denver having the highest median housing price."
   ]
  },
  {
   "cell_type": "code",
   "execution_count": 37,
   "id": "4cf7c809",
   "metadata": {},
   "outputs": [
    {
     "data": {
      "text/plain": [
       "<Axes: xlabel='No. of Bedrooms', ylabel='Price ($)'>"
      ]
     },
     "execution_count": 37,
     "metadata": {},
     "output_type": "execute_result"
    },
    {
     "data": {
      "image/png": "[encoded data removed]",
      "text/plain": [
       "<Figure size 640x480 with 1 Axes>"
      ]
     },
     "metadata": {},
     "output_type": "display_data"
    }
   ],
   "source": [
    "sns.boxplot(data=df,x = 'No. of Bedrooms', y ='Price ($)')"
   ]
  },
  {
   "cell_type": "markdown",
   "id": "37f00739",
   "metadata": {},
   "source": [
    "### Median housing prices increases as the number of bedrooms increase, until 6 number of bedrooms"
   ]
  },
  {
   "cell_type": "code",
   "execution_count": 38,
   "id": "9a36f565",
   "metadata": {},
   "outputs": [
    {
     "data": {
      "text/plain": [
       "<Axes: xlabel='No. of Toilets', ylabel='Price ($)'>"
      ]
     },
     "execution_count": 38,
     "metadata": {},
     "output_type": "execute_result"
    },
    {
     "data": {
      "image/png": "[encoded data removed]",
      "text/plain": [
       "<Figure size 640x480 with 1 Axes>"
      ]
     },
     "metadata": {},
     "output_type": "display_data"
    }
   ],
   "source": [
    "sns.boxplot(data=df,x = 'No. of Toilets', y ='Price ($)')"
   ]
  },
  {
   "cell_type": "markdown",
   "id": "144a25cb",
   "metadata": {},
   "source": [
    "### Housing price increases as no. of toilet in the house increase"
   ]
  },
  {
   "cell_type": "code",
   "execution_count": 39,
   "id": "5e49a16f",
   "metadata": {},
   "outputs": [
    {
     "data": {
      "text/plain": [
       "<Axes: xlabel='Renovation Status', ylabel='Price ($)'>"
      ]
     },
     "execution_count": 39,
     "metadata": {},
     "output_type": "execute_result"
    },
    {
     "data": {
      "image/png": "[encoded data removed]",
      "text/plain": [
       "<Figure size 640x480 with 1 Axes>"
      ]
     },
     "metadata": {},
     "output_type": "display_data"
    }
   ],
   "source": [
    "sns.boxplot(data=df,x = 'Renovation Status', y ='Price ($)')"
   ]
  },
  {
   "cell_type": "markdown",
   "id": "16ebeb77",
   "metadata": {},
   "source": [
    "### Median housing price for furnished is typically the highest, followed by semi-furnished then unfurnished"
   ]
  },
  {
   "cell_type": "code",
   "execution_count": 40,
   "id": "b6e0f357",
   "metadata": {},
   "outputs": [
    {
     "data": {
      "text/plain": [
       "<Axes: xlabel='Stories', ylabel='Price ($)'>"
      ]
     },
     "execution_count": 40,
     "metadata": {},
     "output_type": "execute_result"
    },
    {
     "data": {
      "image/png": "[encoded data removed]",
      "text/plain": [
       "<Figure size 640x480 with 1 Axes>"
      ]
     },
     "metadata": {},
     "output_type": "display_data"
    }
   ],
   "source": [
    "sns.boxplot(data=df,x ='Stories', y ='Price ($)')"
   ]
  },
  {
   "cell_type": "markdown",
   "id": "9c1f7064",
   "metadata": {},
   "source": [
    "### Median housing prices increases as the number of stories in the house increases"
   ]
  },
  {
   "cell_type": "markdown",
   "id": "23a68fba",
   "metadata": {},
   "source": [
    "## Data Preprocessing and Feature Engineering"
   ]
  },
  {
   "cell_type": "markdown",
   "id": "f5f69915",
   "metadata": {},
   "source": [
    "### - Price Per Square Meter column was created to increase the predictive power of the algorithm."
   ]
  },
  {
   "cell_type": "code",
   "execution_count": 41,
   "id": "44a93b6f",
   "metadata": {},
   "outputs": [
    {
     "data": {
      "text/html": [
       "<div>\n",
       "<style scoped>\n",
       "    .dataframe tbody tr th:only-of-type {\n",
       "        vertical-align: middle;\n",
       "    }\n",
       "\n",
       "    .dataframe tbody tr th {\n",
       "        vertical-align: top;\n",
       "    }\n",
       "\n",
       "    .dataframe thead th {\n",
       "        text-align: right;\n",
       "    }\n",
       "</style>\n",
       "<table border=\"1\" class=\"dataframe\">\n",
       "  <thead>\n",
       "    <tr style=\"text-align: right;\">\n",
       "      <th></th>\n",
       "      <th>House ID</th>\n",
       "      <th>House Area (sqm)</th>\n",
       "      <th>No. of Bedrooms</th>\n",
       "      <th>No. of Toilets</th>\n",
       "      <th>Stories</th>\n",
       "      <th>Price ($)</th>\n",
       "      <th>Price Per Sqm</th>\n",
       "      <th>City_Chicago</th>\n",
       "      <th>City_Denver</th>\n",
       "      <th>City_New York</th>\n",
       "      <th>City_Seattle</th>\n",
       "      <th>Renovation Status_semi-furnished</th>\n",
       "      <th>Renovation Status_unfurnished</th>\n",
       "    </tr>\n",
       "  </thead>\n",
       "  <tbody>\n",
       "    <tr>\n",
       "      <th>0</th>\n",
       "      <td>0</td>\n",
       "      <td>742.0</td>\n",
       "      <td>4</td>\n",
       "      <td>2</td>\n",
       "      <td>3</td>\n",
       "      <td>1330000</td>\n",
       "      <td>1792.452830</td>\n",
       "      <td>1</td>\n",
       "      <td>0</td>\n",
       "      <td>0</td>\n",
       "      <td>0</td>\n",
       "      <td>0</td>\n",
       "      <td>0</td>\n",
       "    </tr>\n",
       "    <tr>\n",
       "      <th>1</th>\n",
       "      <td>1</td>\n",
       "      <td>896.0</td>\n",
       "      <td>4</td>\n",
       "      <td>4</td>\n",
       "      <td>4</td>\n",
       "      <td>1225000</td>\n",
       "      <td>1367.187500</td>\n",
       "      <td>0</td>\n",
       "      <td>1</td>\n",
       "      <td>0</td>\n",
       "      <td>0</td>\n",
       "      <td>0</td>\n",
       "      <td>0</td>\n",
       "    </tr>\n",
       "    <tr>\n",
       "      <th>2</th>\n",
       "      <td>2</td>\n",
       "      <td>996.0</td>\n",
       "      <td>3</td>\n",
       "      <td>2</td>\n",
       "      <td>2</td>\n",
       "      <td>1225000</td>\n",
       "      <td>1229.919679</td>\n",
       "      <td>1</td>\n",
       "      <td>0</td>\n",
       "      <td>0</td>\n",
       "      <td>0</td>\n",
       "      <td>1</td>\n",
       "      <td>0</td>\n",
       "    </tr>\n",
       "    <tr>\n",
       "      <th>3</th>\n",
       "      <td>3</td>\n",
       "      <td>750.0</td>\n",
       "      <td>4</td>\n",
       "      <td>2</td>\n",
       "      <td>2</td>\n",
       "      <td>1221500</td>\n",
       "      <td>1628.666667</td>\n",
       "      <td>0</td>\n",
       "      <td>0</td>\n",
       "      <td>0</td>\n",
       "      <td>1</td>\n",
       "      <td>0</td>\n",
       "      <td>0</td>\n",
       "    </tr>\n",
       "    <tr>\n",
       "      <th>4</th>\n",
       "      <td>4</td>\n",
       "      <td>742.0</td>\n",
       "      <td>4</td>\n",
       "      <td>1</td>\n",
       "      <td>2</td>\n",
       "      <td>1141000</td>\n",
       "      <td>1537.735849</td>\n",
       "      <td>0</td>\n",
       "      <td>0</td>\n",
       "      <td>1</td>\n",
       "      <td>0</td>\n",
       "      <td>0</td>\n",
       "      <td>0</td>\n",
       "    </tr>\n",
       "    <tr>\n",
       "      <th>...</th>\n",
       "      <td>...</td>\n",
       "      <td>...</td>\n",
       "      <td>...</td>\n",
       "      <td>...</td>\n",
       "      <td>...</td>\n",
       "      <td>...</td>\n",
       "      <td>...</td>\n",
       "      <td>...</td>\n",
       "      <td>...</td>\n",
       "      <td>...</td>\n",
       "      <td>...</td>\n",
       "      <td>...</td>\n",
       "      <td>...</td>\n",
       "    </tr>\n",
       "    <tr>\n",
       "      <th>540</th>\n",
       "      <td>540</td>\n",
       "      <td>300.0</td>\n",
       "      <td>2</td>\n",
       "      <td>1</td>\n",
       "      <td>1</td>\n",
       "      <td>182000</td>\n",
       "      <td>606.666667</td>\n",
       "      <td>0</td>\n",
       "      <td>0</td>\n",
       "      <td>0</td>\n",
       "      <td>1</td>\n",
       "      <td>0</td>\n",
       "      <td>1</td>\n",
       "    </tr>\n",
       "    <tr>\n",
       "      <th>541</th>\n",
       "      <td>541</td>\n",
       "      <td>240.0</td>\n",
       "      <td>3</td>\n",
       "      <td>1</td>\n",
       "      <td>1</td>\n",
       "      <td>176715</td>\n",
       "      <td>736.312500</td>\n",
       "      <td>0</td>\n",
       "      <td>0</td>\n",
       "      <td>1</td>\n",
       "      <td>0</td>\n",
       "      <td>1</td>\n",
       "      <td>0</td>\n",
       "    </tr>\n",
       "    <tr>\n",
       "      <th>542</th>\n",
       "      <td>542</td>\n",
       "      <td>362.0</td>\n",
       "      <td>2</td>\n",
       "      <td>1</td>\n",
       "      <td>1</td>\n",
       "      <td>175000</td>\n",
       "      <td>483.425414</td>\n",
       "      <td>0</td>\n",
       "      <td>0</td>\n",
       "      <td>0</td>\n",
       "      <td>0</td>\n",
       "      <td>0</td>\n",
       "      <td>1</td>\n",
       "    </tr>\n",
       "    <tr>\n",
       "      <th>543</th>\n",
       "      <td>543</td>\n",
       "      <td>291.0</td>\n",
       "      <td>3</td>\n",
       "      <td>1</td>\n",
       "      <td>1</td>\n",
       "      <td>175000</td>\n",
       "      <td>601.374570</td>\n",
       "      <td>0</td>\n",
       "      <td>0</td>\n",
       "      <td>0</td>\n",
       "      <td>1</td>\n",
       "      <td>0</td>\n",
       "      <td>0</td>\n",
       "    </tr>\n",
       "    <tr>\n",
       "      <th>544</th>\n",
       "      <td>544</td>\n",
       "      <td>385.0</td>\n",
       "      <td>3</td>\n",
       "      <td>1</td>\n",
       "      <td>2</td>\n",
       "      <td>175000</td>\n",
       "      <td>454.545455</td>\n",
       "      <td>1</td>\n",
       "      <td>0</td>\n",
       "      <td>0</td>\n",
       "      <td>0</td>\n",
       "      <td>0</td>\n",
       "      <td>1</td>\n",
       "    </tr>\n",
       "  </tbody>\n",
       "</table>\n",
       "<p>545 rows × 13 columns</p>\n",
       "</div>"
      ],
      "text/plain": [
       "     House ID  House Area (sqm)  No. of Bedrooms  No. of Toilets  Stories  \\\n",
       "0           0             742.0                4               2        3   \n",
       "1           1             896.0                4               4        4   \n",
       "2           2             996.0                3               2        2   \n",
       "3           3             750.0                4               2        2   \n",
       "4           4             742.0                4               1        2   \n",
       "..        ...               ...              ...             ...      ...   \n",
       "540       540             300.0                2               1        1   \n",
       "541       541             240.0                3               1        1   \n",
       "542       542             362.0                2               1        1   \n",
       "543       543             291.0                3               1        1   \n",
       "544       544             385.0                3               1        2   \n",
       "\n",
       "     Price ($)  Price Per Sqm  City_Chicago  City_Denver  City_New York  \\\n",
       "0      1330000    1792.452830             1            0              0   \n",
       "1      1225000    1367.187500             0            1              0   \n",
       "2      1225000    1229.919679             1            0              0   \n",
       "3      1221500    1628.666667             0            0              0   \n",
       "4      1141000    1537.735849             0            0              1   \n",
       "..         ...            ...           ...          ...            ...   \n",
       "540     182000     606.666667             0            0              0   \n",
       "541     176715     736.312500             0            0              1   \n",
       "542     175000     483.425414             0            0              0   \n",
       "543     175000     601.374570             0            0              0   \n",
       "544     175000     454.545455             1            0              0   \n",
       "\n",
       "     City_Seattle  Renovation Status_semi-furnished  \\\n",
       "0               0                                 0   \n",
       "1               0                                 0   \n",
       "2               0                                 1   \n",
       "3               1                                 0   \n",
       "4               0                                 0   \n",
       "..            ...                               ...   \n",
       "540             1                                 0   \n",
       "541             0                                 1   \n",
       "542             0                                 0   \n",
       "543             1                                 0   \n",
       "544             0                                 0   \n",
       "\n",
       "     Renovation Status_unfurnished  \n",
       "0                                0  \n",
       "1                                0  \n",
       "2                                0  \n",
       "3                                0  \n",
       "4                                0  \n",
       "..                             ...  \n",
       "540                              1  \n",
       "541                              0  \n",
       "542                              1  \n",
       "543                              0  \n",
       "544                              1  \n",
       "\n",
       "[545 rows x 13 columns]"
      ]
     },
     "execution_count": 41,
     "metadata": {},
     "output_type": "execute_result"
    }
   ],
   "source": [
    "hDF = df.copy()\n",
    "\n",
    "#Feature Engineering\n",
    "hDF['Price Per Sqm'] = hDF['Price ($)'] / hDF['House Area (sqm)']\n",
    "\n",
    "#Encode Categorical Variable\n",
    "hDF = pd.get_dummies(hDF, columns = ['City','Renovation Status'],drop_first=True)\n",
    "hDF"
   ]
  },
  {
   "cell_type": "markdown",
   "id": "c295e39a",
   "metadata": {},
   "source": [
    "### X drops the target variable (‘Price') and identifying column (‘House ID’).<br>y is the target variable (‘Price’)<br>y is the housing price"
   ]
  },
  {
   "cell_type": "code",
   "execution_count": 42,
   "id": "ed13ec45",
   "metadata": {},
   "outputs": [],
   "source": [
    "X = hDF.drop(['Price ($)','House ID'], axis = 1)\n",
    "y = hDF['Price ($)']"
   ]
  },
  {
   "cell_type": "code",
   "execution_count": 43,
   "id": "ad82840e",
   "metadata": {},
   "outputs": [
    {
     "data": {
      "image/png": "[encoded data removed]",
      "text/plain": [
       "<Figure size 1200x500 with 1 Axes>"
      ]
     },
     "metadata": {},
     "output_type": "display_data"
    }
   ],
   "source": [
    "#Feature Importance Ranking\n",
    "from sklearn.ensemble import RandomForestClassifier\n",
    "randomForest = RandomForestClassifier()\n",
    "randomForest.fit(X,y)\n",
    "featureImportance = pd.DataFrame({'Feature': X.columns, 'Importance':randomForest.feature_importances_})\n",
    "featureImportance = featureImportance.sort_values('Importance',ascending=True)\n",
    "\n",
    "#Plotting the graph\n",
    "fig = plt.figure(figsize=(12,5))\n",
    "ax1 = fig.add_subplot()\n",
    "fig.set_facecolor(\"lightblue\")\n",
    "ax1.set_title(\"Feature Importance\")\n",
    "ax1.set_xlabel(\"Importance\")\n",
    "ax1.set_ylabel(\"Feature\")\n",
    "ax1.barh(featureImportance['Feature'], featureImportance['Importance'])\n",
    "plt.show()"
   ]
  },
  {
   "cell_type": "markdown",
   "id": "56c45499",
   "metadata": {},
   "source": [
    "### From the Feature Importance Graph, the model heavily relies on the price per sqm and house area to predict housing prices.<br><br>1. Houses with higher price per square meter will be costlier.<br><br>2. Houses with bigger house area will be costlier"
   ]
  },
  {
   "cell_type": "markdown",
   "id": "f3eab1a2",
   "metadata": {},
   "source": [
    "## Modelling"
   ]
  },
  {
   "cell_type": "markdown",
   "id": "d19b2d5c",
   "metadata": {},
   "source": [
    "### An 80:20 ratio between training and test data is chosen where 80% of the data is for training and 20% is for testing."
   ]
  },
  {
   "cell_type": "code",
   "execution_count": 44,
   "id": "0773d603",
   "metadata": {},
   "outputs": [],
   "source": [
    "#Splitting train and test data\n",
    "from sklearn.model_selection import train_test_split\n",
    "X_train, X_test, y_train, y_test = train_test_split(X, y, test_size=0.20,random_state=32)"
   ]
  },
  {
   "cell_type": "markdown",
   "id": "8567d951",
   "metadata": {},
   "source": [
    "### Algorithms Used: <br><br>1. Linear Regression<br>2. Random Forest Regressor<br>3. Gradient Boosting Regressor<br>4. HistGradientBoosting Regressor<br>5. Decision Tree Regressor<br>6. Extra Tree Regressor<br><br><u>Linear Regression</u><br><br>- Predict continuous variable<br>- Easy to implement<br>- Handles overfitting well<br><br><u>Random Forest Regressor</u><br><br>- A Random Forest Regressor<br>- Easy to interpret<br>- Lots of flexibility,many options to choose from when hyperparameter tuning<br><br><u>Gradient Boosting Regressor</u><br><br> - Gradient Boosting for Regressor- Lots of flexibility, many options to choose from when hyperparameter tuning<br><br><u>HistGradientBoosting Regressor</u><br><br>- Is a Histogram-based Gradient Boosting Regression Tree<br><br><u>Decision Tree Regressor</u><br><br>- Tree with decision nodes<br>- Not easily affected by outlier<br><br><u>Extra TreeRegressor</u><br><br>- Creates many decision trees and sampling of trees is random.<br>- Reduction in bias\n"
   ]
  },
  {
   "cell_type": "markdown",
   "id": "d0ce0b76",
   "metadata": {},
   "source": [
    "## Test and Score Before Hyperparameter tuning"
   ]
  },
  {
   "cell_type": "code",
   "execution_count": 51,
   "id": "377c71f1",
   "metadata": {},
   "outputs": [
    {
     "name": "stdout",
     "output_type": "stream",
     "text": [
      "The R Square score for Linear_Regression: 0.820\n",
      "The R Square score for Random_Forest: 0.978\n",
      "The R Square score for Gradient_Boosting: 0.984\n",
      "The R Square score for HGB: 0.978\n",
      "The R Square score for Decision_Tree: 0.954\n",
      "The R Square score for Extra_Trees: 0.951\n"
     ]
    }
   ],
   "source": [
    "#Accuracy using test data\n",
    "from sklearn.pipeline import Pipeline\n",
    "from sklearn.preprocessing import StandardScaler\n",
    "from sklearn.linear_model import LinearRegression\n",
    "from sklearn.ensemble import RandomForestRegressor\n",
    "from sklearn.tree import DecisionTreeRegressor\n",
    "from sklearn.ensemble import GradientBoostingRegressor\n",
    "from sklearn.ensemble import HistGradientBoostingRegressor\n",
    "from sklearn.metrics import r2_score\n",
    "from sklearn.svm import SVR\n",
    "from sklearn.ensemble import ExtraTreesRegressor\n",
    "\n",
    "clfs =[('Linear_Regression', LinearRegression()),\n",
    "      ('Random_Forest',RandomForestRegressor()),\n",
    "      ('Gradient_Boosting',GradientBoostingRegressor()),\n",
    "      ('HGB',HistGradientBoostingRegressor()),\n",
    "      ('Decision_Tree', DecisionTreeRegressor()),\n",
    "      ('Extra_Trees',ExtraTreesRegressor())]\n",
    "\n",
    "for name,clf in clfs:\n",
    "    pipeline = Pipeline(steps = [('scaler',StandardScaler()),('classifier',clf)])\n",
    "    pipeline.fit(X_train,y_train)\n",
    "    y_pred = pipeline.predict(X_test)\n",
    "    r2 = r2_score(y_test, y_pred)\n",
    "    print(f'The R Square score for {name}: {r2:.3f}')"
   ]
  },
  {
   "cell_type": "code",
   "execution_count": 52,
   "id": "f59a22c7",
   "metadata": {},
   "outputs": [
    {
     "name": "stdout",
     "output_type": "stream",
     "text": [
      "The cv score for Linear_Regression: 0.806\n",
      "The cv score for Random_Forest: 0.935\n",
      "The cv score for Gradient_Boosting: 0.953\n",
      "The cv score for HGB: 0.928\n",
      "The cv score for Decision_Tree: 0.919\n",
      "The cv score for Extra_Trees: 0.884\n"
     ]
    }
   ],
   "source": [
    "# Accuracy using cross validation\n",
    "from sklearn.model_selection import cross_val_score,KFold\n",
    "kf = KFold(n_splits=6, shuffle=True, random_state=32)\n",
    "for name,clf in clfs:\n",
    "    pipeline = Pipeline(steps = [('scaler',StandardScaler()),('classifier',clf)])\n",
    "    cv_results = cross_val_score(pipeline,X_train,y_train,cv=kf)\n",
    "    print(f'The cv score for {name}: {np.mean(cv_results):.3f}')    "
   ]
  },
  {
   "cell_type": "code",
   "execution_count": 53,
   "id": "78dbcd35",
   "metadata": {},
   "outputs": [
    {
     "name": "stdout",
     "output_type": "stream",
     "text": [
      "               Model           MSE          RMSE           MAE      MAPE  \\\n",
      "0  Linear_Regression  6.111275e+09  78174.643038  54201.740410  0.115976   \n",
      "1      Random_Forest  7.106823e+08  26658.625792  16915.990000  0.035986   \n",
      "2  Gradient_Boosting  5.620806e+08  23708.239355  16536.399862  0.034849   \n",
      "3                HGB  7.326818e+08  27068.095468  18351.843317  0.038735   \n",
      "4      Decision_Tree  1.845824e+09  42963.057615  27585.266055  0.057524   \n",
      "5        Extra_Trees  1.680763e+09  40997.112317  26514.919817  0.055393   \n",
      "\n",
      "         R2  \n",
      "0  0.820208  \n",
      "1  0.979092  \n",
      "2  0.983464  \n",
      "3  0.978445  \n",
      "4  0.945696  \n",
      "5  0.950552  \n"
     ]
    }
   ],
   "source": [
    "#Classification Report\n",
    "import pandas as pd\n",
    "import numpy as np\n",
    "from sklearn import metrics\n",
    "from sklearn.pipeline import Pipeline\n",
    "from sklearn.preprocessing import StandardScaler\n",
    "from sklearn.model_selection import train_test_split\n",
    "\n",
    "pipelines = []\n",
    "scores_df = pd.DataFrame(columns = ['Model','MSE', 'RMSE', 'MAE', 'MAPE','R2'])\n",
    "\n",
    "for clf_name,clf in clfs:\n",
    "    pipeline = Pipeline(steps = [ ('scalor',StandardScaler()),('classifier',clf)])    \n",
    "    pipeline.fit(X_train,y_train)\n",
    "    pipelines.append(pipeline)\n",
    "    y_pred = pipeline.predict(X_test)\n",
    "    \n",
    "    new_row = {'Model': clf_name,\n",
    "              'MSE': metrics.mean_squared_error(y_test, y_pred, squared=True),\n",
    "              'RMSE': metrics.mean_squared_error(y_test, y_pred, squared=False),\n",
    "              'MAE': metrics.mean_absolute_error(y_test, y_pred),\n",
    "              'MAPE': metrics.mean_absolute_percentage_error(y_test, y_pred),\n",
    "              'R2': metrics.r2_score(y_test, y_pred)}\n",
    "    scores_df = pd.concat([scores_df,pd.DataFrame([new_row])],ignore_index=True)\n",
    "    \n",
    "print(scores_df)"
   ]
  },
  {
   "cell_type": "markdown",
   "id": "36dc751f",
   "metadata": {},
   "source": [
    "### From the test and score results, all models achieve a very high R square score of 0.90+ except for linear regression with a R Square score of 0.80+.<br><br>Gradient Boosting Algorithm has a highest R Square of 0.984 tested on test data compared to the other algorithms.  This tells us that the model  able to explain 98% of the variance whether one will default payment.<br><br>Not only that, it also has the highest cross-validation score of 0.952"
   ]
  },
  {
   "cell_type": "markdown",
   "id": "1c12eae8",
   "metadata": {},
   "source": [
    "## Hypertuning models"
   ]
  },
  {
   "cell_type": "markdown",
   "id": "9b55cbc0",
   "metadata": {},
   "source": [
    "### Picked out 3 of the most accurate model to hyperparameter tune.<br><br>1. Gradient Boosting<br>2. Random Forest<br>3. HistGradientBoosting<br><br>Now, I will hyperparameter tune the model to further improve the accuracy by customising the parameters for the algorithm.<br><br>1. Define a param grid for each model, and parameters I would like to test<br>2. GridSearchCV will loop through all the different types of combinations.<br>3. Upon looping through all the combinations, it will provide me with the best parameter combinations and highest R Square Score obtained."
   ]
  },
  {
   "cell_type": "code",
   "execution_count": 26,
   "id": "52a58ed5",
   "metadata": {},
   "outputs": [
    {
     "name": "stdout",
     "output_type": "stream",
     "text": [
      "score = 0.989\n",
      "{'learning_rate': 0.1, 'max_depth': 3, 'n_estimators': 1000}\n"
     ]
    }
   ],
   "source": [
    "#Hypertuning Gradient Boosting\n",
    "from sklearn.model_selection import GridSearchCV, KFold\n",
    "gradient = GradientBoostingRegressor()\n",
    "parameters = {'n_estimators': [100,500,1000], 'learning_rate':[0.01,0.1,1],'max_depth':[3,5,None]}\n",
    "grid = GridSearchCV(gradient, param_grid=parameters, cv=5)\n",
    "best_clf = grid.fit(X_train,y_train)\n",
    "print(\"score = %3.3f\" %(grid.score(X_test,y_test)))\n",
    "print(grid.best_params_)"
   ]
  },
  {
   "cell_type": "code",
   "execution_count": 27,
   "id": "ceea6264",
   "metadata": {},
   "outputs": [
    {
     "name": "stdout",
     "output_type": "stream",
     "text": [
      "score = 0.978\n",
      "{'max_depth': 10, 'min_samples_leaf': 1, 'min_samples_split': 2, 'n_estimators': 500}\n"
     ]
    }
   ],
   "source": [
    "#Hypertuning Random Forest\n",
    "from sklearn.model_selection import GridSearchCV, KFold\n",
    "randomForest = RandomForestRegressor()\n",
    "parameters = {'n_estimators': [100,500,1000],'max_depth':[None,5,10],'min_samples_split':[2,5,10],'min_samples_leaf':[1,2,4]}\n",
    "grid = GridSearchCV(randomForest, param_grid=parameters, cv=5)\n",
    "best_clf = grid.fit(X_train,y_train)\n",
    "print(\"score = %3.3f\" %(grid.score(X_test,y_test)))\n",
    "print(grid.best_params_)"
   ]
  },
  {
   "cell_type": "code",
   "execution_count": 28,
   "id": "4a8763bc",
   "metadata": {},
   "outputs": [
    {
     "name": "stdout",
     "output_type": "stream",
     "text": [
      "score = 0.986\n",
      "{'learning_rate': 0.1, 'max_depth': 5, 'max_leaf_nodes': 10, 'min_samples_leaf': 2}\n"
     ]
    }
   ],
   "source": [
    "#Hypertuning HistGradientBoosting\n",
    "from sklearn.model_selection import GridSearchCV, KFold\n",
    "hgb = HistGradientBoostingRegressor()\n",
    "parameters = {'learning_rate': [0.01,0.1,1],'max_depth':[None,3,5],'max_leaf_nodes':[None,10,10],'min_samples_leaf':[1,2,4]}\n",
    "grid = GridSearchCV(hgb, param_grid=parameters, cv=5)\n",
    "best_clf = grid.fit(X_train,y_train)\n",
    "print(\"score = %3.3f\" %(grid.score(X_test,y_test)))\n",
    "print(grid.best_params_)"
   ]
  },
  {
   "cell_type": "markdown",
   "id": "afd41bd4",
   "metadata": {},
   "source": [
    "## Scores After Hyperparameter Tuning"
   ]
  },
  {
   "cell_type": "code",
   "execution_count": 54,
   "id": "ddd9af37",
   "metadata": {},
   "outputs": [
    {
     "name": "stdout",
     "output_type": "stream",
     "text": [
      "The R Square score for Linear_Regression: 0.820\n",
      "The R Square score for Random_Forest: 0.981\n",
      "The R Square score for Gradient_Boosting: 0.990\n",
      "The R Square score for HGB: 0.986\n",
      "The R Square score for Decision_Tree: 0.947\n",
      "The R Square score for Extra_Trees: 0.951\n"
     ]
    }
   ],
   "source": [
    "#Accuracy using test data\n",
    "from sklearn.pipeline import Pipeline\n",
    "from sklearn.preprocessing import StandardScaler\n",
    "from sklearn.linear_model import LinearRegression\n",
    "from sklearn.ensemble import RandomForestRegressor\n",
    "from sklearn.tree import DecisionTreeRegressor\n",
    "from sklearn.ensemble import GradientBoostingRegressor\n",
    "from sklearn.ensemble import HistGradientBoostingRegressor\n",
    "from sklearn.metrics import r2_score\n",
    "from sklearn.ensemble import ExtraTreesRegressor\n",
    "\n",
    "clfs =[('Linear_Regression', LinearRegression()),\n",
    "      ('Random_Forest',RandomForestRegressor(max_depth = 10,min_samples_leaf = 1, min_samples_split = 2, n_estimators = 500)),\n",
    "      ('Gradient_Boosting',GradientBoostingRegressor(n_estimators = 1000,max_depth = 3,learning_rate = 0.1)),\n",
    "      ('HGB',HistGradientBoostingRegressor(learning_rate = 0.1, max_depth = 5, max_leaf_nodes = 10, min_samples_leaf = 2)),\n",
    "      ('Decision_Tree', DecisionTreeRegressor()),\n",
    "      ('Extra_Trees',ExtraTreesRegressor())]\n",
    "\n",
    "for name,clf in clfs:\n",
    "    pipeline = Pipeline(steps = [('scaler',StandardScaler()),('classifier',clf)])\n",
    "    pipeline.fit(X_train,y_train)\n",
    "    y_pred = pipeline.predict(X_test)\n",
    "    r2 = r2_score(y_test, y_pred)\n",
    "    print(f'The R Square score for {name}: {r2:.3f}')"
   ]
  },
  {
   "cell_type": "code",
   "execution_count": 55,
   "id": "0aa6fd16",
   "metadata": {},
   "outputs": [
    {
     "name": "stdout",
     "output_type": "stream",
     "text": [
      "The cv score for Linear_Regression: 0.806\n",
      "The cv score for Random_Forest: 0.936\n",
      "The cv score for Gradient_Boosting: 0.962\n",
      "The cv score for HGB: 0.955\n",
      "The cv score for Decision_Tree: 0.925\n",
      "The cv score for Extra_Trees: 0.886\n"
     ]
    }
   ],
   "source": [
    "# Accuracy using cross validation\n",
    "from sklearn.model_selection import cross_val_score,KFold\n",
    "kf = KFold(n_splits=6, shuffle=True, random_state=32)\n",
    "for name,clf in clfs:\n",
    "    pipeline = Pipeline(steps = [('scaler',StandardScaler()),('classifier',clf)])\n",
    "    cv_results = cross_val_score(pipeline,X_train,y_train,cv=kf)\n",
    "    print(f'The cv score for {name}: {np.mean(cv_results):.3f}')    "
   ]
  },
  {
   "cell_type": "code",
   "execution_count": 56,
   "id": "767f3d53",
   "metadata": {},
   "outputs": [
    {
     "name": "stdout",
     "output_type": "stream",
     "text": [
      "               Model           MSE          RMSE           MAE      MAPE  \\\n",
      "0  Linear_Regression  6.111275e+09  78174.643038  54201.740410  0.115976   \n",
      "1      Random_Forest  7.264910e+08  26953.497801  17339.984523  0.036691   \n",
      "2  Gradient_Boosting  3.426247e+08  18510.123272  12943.095043  0.027804   \n",
      "3                HGB  4.845257e+08  22011.944571  15603.954105  0.032334   \n",
      "4      Decision_Tree  2.227002e+09  47191.118596  28831.651376  0.058074   \n",
      "5        Extra_Trees  1.664111e+09  40793.519253  25744.743211  0.053255   \n",
      "\n",
      "         R2  \n",
      "0  0.820208  \n",
      "1  0.978627  \n",
      "2  0.989920  \n",
      "3  0.985745  \n",
      "4  0.934482  \n",
      "5  0.951042  \n"
     ]
    }
   ],
   "source": [
    "#Classification Report\n",
    "import pandas as pd\n",
    "import numpy as np\n",
    "from sklearn import metrics\n",
    "from sklearn.pipeline import Pipeline\n",
    "from sklearn.preprocessing import StandardScaler\n",
    "from sklearn.model_selection import train_test_split\n",
    "\n",
    "pipelines = []\n",
    "scores_df = pd.DataFrame(columns = ['Model','MSE', 'RMSE', 'MAE', 'MAPE','R2'])\n",
    "\n",
    "for clf_name,clf in clfs:\n",
    "    pipeline = Pipeline(steps = [ ('scalor',StandardScaler()),('classifier',clf)])    \n",
    "    pipeline.fit(X_train,y_train)\n",
    "    pipelines.append(pipeline)\n",
    "    y_pred = pipeline.predict(X_test)\n",
    "    \n",
    "    new_row = {'Model': clf_name,\n",
    "              'MSE': metrics.mean_squared_error(y_test, y_pred, squared=True),\n",
    "              'RMSE': metrics.mean_squared_error(y_test, y_pred, squared=False),\n",
    "              'MAE': metrics.mean_absolute_error(y_test, y_pred),\n",
    "              'MAPE': metrics.mean_absolute_percentage_error(y_test, y_pred),\n",
    "              'R2': metrics.r2_score(y_test, y_pred)}\n",
    "    scores_df = pd.concat([scores_df,pd.DataFrame([new_row])],ignore_index=True)\n",
    "    \n",
    "print(scores_df)"
   ]
  },
  {
   "cell_type": "markdown",
   "id": "923189fa",
   "metadata": {},
   "source": [
    "### After tuning the models,<br><br><u>Gradient Boosting</u><br><br>R Square Score on test data increased from 0.984 to 0.990.<br>Cross Validation Score increased from 0.952 to 0.962.<br><br><u>Random Forest</u><br><br>R Square Score on test data is the same 0.981.<br>Cross Validation Score increased from 0.935 to 0.936.<br><br><u>Histogram Gradient Boosting</u><br><br>R Square Score on test data increased from 0.978 to 0.986.<br>Cross Validation Score increased from 0.928 to 0.955.<br><br>The MSE Score is  of Gradient Boosting is the lowest.<br>The MAPE Score of Gradient Boosting is the lowest which tells us that on average, the model prediction differ by 2.7% from the actual value of housing prices.<br><br>Overall, hyperparameter tuning has increased our model R Square Score in turn makes the model effective."
   ]
  },
  {
   "cell_type": "markdown",
   "id": "fdc8c6c8",
   "metadata": {},
   "source": [
    "## Dummy Baseline"
   ]
  },
  {
   "cell_type": "code",
   "execution_count": 57,
   "id": "8224c89f",
   "metadata": {},
   "outputs": [
    {
     "name": "stdout",
     "output_type": "stream",
     "text": [
      "Dummy Baseline MSE: 34007944483.006145\n"
     ]
    }
   ],
   "source": [
    "from sklearn.dummy import DummyRegressor\n",
    "from sklearn import metrics\n",
    "dummyCLF = DummyRegressor(strategy='mean')\n",
    "dummyCLF.fit(X_train,y_train)\n",
    "y_pred = dummyCLF.predict(X_test)\n",
    "mse = metrics.mean_squared_error(y_test, y_pred, squared=True)\n",
    "print(f'Dummy Baseline MSE: {mse}')"
   ]
  },
  {
   "cell_type": "markdown",
   "id": "a04543c1",
   "metadata": {},
   "source": [
    "### Comparing my model to a dummy baseline, the Mean Square Error has decreased, and my Model’s R Square Score increased.<br><br>My model is able to capture complex patterns in the data and make more accurate predictions about housing prices."
   ]
  },
  {
   "cell_type": "markdown",
   "id": "c4c67ef7",
   "metadata": {},
   "source": [
    "## Conclusion"
   ]
  },
  {
   "cell_type": "markdown",
   "id": "c50fc45c",
   "metadata": {},
   "source": [
    "### In Conclusion, this dataset has given me a deep understanding on the housing price in US.<br><br>Upon considering all 3 different accuracy reports Gradient Boosting is my most accurate model to predict housing prices."
   ]
  },
  {
   "cell_type": "code",
   "execution_count": null,
   "id": "4c2c5635",
   "metadata": {},
   "outputs": [],
   "source": []
  }
 ],
 "metadata": {
  "kernelspec": {
   "display_name": "Python 3 (ipykernel)",
   "language": "python",
   "name": "python3"
  },
  "language_info": {
   "codemirror_mode": {
    "name": "ipython",
    "version": 3
   },
   "file_extension": ".py",
   "mimetype": "text/x-python",
   "name": "python",
   "nbconvert_exporter": "python",
   "pygments_lexer": "ipython3",
   "version": "3.10.9"
  }
 },
 "nbformat": 4,
 "nbformat_minor": 5
}
